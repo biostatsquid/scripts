{
 "cells": [
  {
   "cell_type": "markdown",
   "id": "2c4b63a6",
   "metadata": {},
   "source": [
    "# Rating patterns for objective selection"
   ]
  },
  {
   "cell_type": "markdown",
   "id": "78762b54",
   "metadata": {},
   "source": [
    "### Table of Contents\n",
    "\n",
    "* [Relevant libraries, functions and colour dictionaries](#chapter1)\n",
    "* [Creating annotations](#chapter2)\n",
    "* [Reading in data](#chapter3)\n",
    "* [Wilcoxon test](#chapter4)"
   ]
  },
  {
   "cell_type": "markdown",
   "id": "2019aa44",
   "metadata": {},
   "source": [
    "#### Relevant libraries and colour dictionaries <a class=\"anchor\" id=\"chapter1\"></a>"
   ]
  },
  {
   "cell_type": "code",
   "execution_count": null,
   "id": "fd880e75",
   "metadata": {},
   "outputs": [],
   "source": [
    "# Import relevant libraries\n",
    "import numpy as np\n",
    "import scanpy as sc\n",
    "import os\n",
    "import pandas as pd\n",
    "import seaborn as sb\n",
    "import matplotlib\n",
    "import matplotlib.pyplot as plt\n",
    "from matplotlib import rcParams\n",
    "from matplotlib import colors\n",
    "import seaborn as sns\n",
    "from collections import OrderedDict\n",
    "from matplotlib import cm\n",
    "import anndata as ann\n",
    "import scanpy.external as sce\n",
    "from datetime import datetime\n",
    "import NaiveDE\n",
    "import SpatialDE\n",
    "from matplotlib_venn import venn3\n",
    "%matplotlib inline\n",
    "import glob\n",
    "from sklearn.metrics import mean_squared_error as mse\n",
    "from scipy import stats\n",
    "import math\n",
    "import re\n",
    "\n",
    "# Set current directory\n",
    "os.chdir(\"/Users/mendenlab/work/spatial_granuloma/scripts\")\n",
    "\n",
    "# assign the rigth colours to the right annotation\n",
    "def _set_colors(adata, obs_name, colors):\n",
    "    \"\"\"Set palette with specific colors for specific categories\n",
    "\n",
    "    Parameters\n",
    "    ----------\n",
    "    adata : annData\n",
    "    obs_name : column to plot\n",
    "    colors : OrderedDict(): colors named by categories\n",
    "\n",
    "    Returns\n",
    "    -------\n",
    "\n",
    "    \"\"\"\n",
    "    if len(colors.values())>0:\n",
    "        palette = []\n",
    "        unique_colors = np.unique(adata.obs[obs_name])\n",
    "        for key in adata.obs[obs_name].cat.categories.tolist():\n",
    "            if key in colors.keys():\n",
    "                palette.append(colors[key])\n",
    "    return palette\n",
    "\n",
    "def softmax(x):\n",
    "    \"\"\"Compute softmax values for each sets of scores in x.\"\"\"\n",
    "    e_x = np.exp(x - np.max(x))\n",
    "    return e_x / e_x.sum(axis=0) \n",
    "\n",
    "#Set the colours per annotation\n",
    "spot_colors = []\n",
    "spot_colors = OrderedDict()\n",
    "spot_colors[\"EPIDERMIS\"] = 'blue'\n",
    "spot_colors[\"DERMIS\"] = '#E0EEE0'\n",
    "spot_colors[\"INTERFACE\"] = 'deepskyblue'\n",
    "spot_colors[\"VESSEL\"] = 'darkgreen'\n",
    "spot_colors[\"HAIR FOLLICLE\"] = \"#543005\"\n",
    "spot_colors[\"SWEAT GLAND\"] = 'y'\n",
    "spot_colors[\"SEBACEOUS GLAND\"] = 'mistyrose'\n",
    "spot_colors[\"MUSCLE\"] = 'darkcyan'\n",
    "spot_colors[\"GA\"] = 'firebrick'  \n",
    "spot_colors[\"GNL\"] = 'orchid'\n",
    "spot_colors[\"GSS\"] = 'blueviolet'\n",
    "spot_colors[\"GSC\"] = 'mediumvioletred'\n",
    "spot_colors[\"UNDETERMINED\"] = 'black'\n",
    "\n",
    "\n",
    "dermis_colors = []\n",
    "dermis_colors = OrderedDict()\n",
    "dermis_colors[\"UNDETERMINED\"] = 'black'\n",
    "dermis_colors[\"upper EPIDERMIS\"] = 'blue'\n",
    "dermis_colors[\"middle EPIDERMIS\"] = 'dodgerblue'\n",
    "dermis_colors[\"basal EPIDERMIS\"] = 'skyblue'\n",
    "dermis_colors[\"DERdepth1\"] = '#006837'\n",
    "dermis_colors[\"DERdepth2\"] = '#238443'\n",
    "dermis_colors[\"DERdepth3\"] = '#41AB5D'\n",
    "dermis_colors[\"DERdepth4\"] = '#78C679'\n",
    "dermis_colors[\"DERdepth5\"] = '#ADDD8E'\n",
    "dermis_colors[\"DERdepth6\"] = '#D9F0A3'\n",
    "dermis_colors[\"DERdepth7\"] = '#F7FCB9'\n",
    "\n",
    "leiden_r13_colours = []\n",
    "leiden_r13_colours = OrderedDict()\n",
    "leiden_r13_colours[\"0\"] = 'darkolivegreen'\n",
    "leiden_r13_colours[\"1\"] = \"#D9F0A3\"\n",
    "leiden_r13_colours[\"2\"] = '#238443'\n",
    "leiden_r13_colours[\"3\"] = 'firebrick'\n",
    "leiden_r13_colours[\"4\"] = '#78C679'\n",
    "leiden_r13_colours[\"5\"] = '#78C679'\n",
    "leiden_r13_colours[\"6\"] = '#41AB5D'\n",
    "leiden_r13_colours[\"7\"] = '#006837'\n",
    "leiden_r13_colours[\"8\"] = '#ADDD8E'\n",
    "leiden_r13_colours[\"9\"] = \"#238443\"\n",
    "leiden_r13_colours[\"10\"] = '#78C679'\n",
    "leiden_r13_colours[\"11\"] = 'blue'\n",
    "leiden_r13_colours[\"12\"] = 'orchid'\n",
    "leiden_r13_colours[\"13\"] = '#F46D43'\n",
    "leiden_r13_colours[\"14\"] = 'dodgerblue'\n",
    "leiden_r13_colours[\"15\"] = 'deepskyblue'\n",
    "leiden_r13_colours[\"16\"] = '#cfafaf'\n",
    "leiden_r13_colours[\"17\"] = 'yellow'\n",
    "leiden_r13_colours[\"18\"] = 'darkcyan'\n",
    "leiden_r13_colours[\"19\"] = '#006837'"
   ]
  },
  {
   "cell_type": "code",
   "execution_count": null,
   "id": "697d2cca",
   "metadata": {},
   "outputs": [],
   "source": [
    "# Plot patterns in a specific order with their respective categories (e.g., spot_type, skin_layer, leiden_r13)\n",
    "# -------------------------------------------------------------------------------------------------------\n",
    "# Input: It takes the anndata object, the patterns dataframe and \n",
    "# a pattern list of the sample_SPECIMEN_pattern(s) in the order you want them plotted,\n",
    "# it also takes a list_of_annotations if you want any of the adata.obs plotted (e.g., spot_type)\n",
    "# and the number of columns you want your plots organised in (e.g., if you want to plot 20 patterns \n",
    "# and you set col_number to 10, it will give you 2 rows of patterns)\n",
    "# Note: the patternsdf must have the following columns: spot_index, array_row, array_col, sample_SPECIMEN and a column for each of the patterns (0, 1, 2...)\n",
    "# Output: A figure with 3 rows (pattern, spot type, leiden_clustering) of each of the sample_SPECIMEN_patterns in the given order\n",
    "\n",
    "# for debug:\n",
    "# pattern_list_example = ['P17851_1002_91253-A_pattern6', 'P17851_1003_45703-A_pattern7', 'P17851_1004_45703-A_pattern6']\n",
    "\n",
    "def plot_in_order_annotations(anndata, patternsdf, patternlist, list_of_annotations, col_number = 8):\n",
    "    # Input: each element of this list is in turn a list of the sample_SPECIMEN_pattern(s) you want to include in the analysis.\n",
    "    sample_SPECIMEN_pattern_list_of_lists = [patternlist] # If you only want to plot 1 group, then just add it as a list of a list e.g., [['P17851_1001_91253-A_pattern0', 'P17851_1002_91253-A_pattern4']]\n",
    "    adata = anndata\n",
    "    all_patterns_df = patternsdf\n",
    "\n",
    "    number_of_columns = int(col_number)\n",
    "    number_of_rows_per_category = math.ceil(int(len(patternlist))/number_of_columns) # if there are too many patters we'll divide them in several rows\n",
    "    number_of_rows = (int(len(list_of_annotations)) + 3) * number_of_rows_per_category\n",
    "    \n",
    "    # Loop for each sample_SPECIMEN_pattern\n",
    "    # -------------------------------------------------------------------------------------------------------\n",
    "    for k, sample_SPECIMEN_pattern_list in enumerate(sample_SPECIMEN_pattern_list_of_lists):\n",
    "        fig,axes = plt.subplots(facecolor='w', edgecolor='k', figsize=(5*number_of_columns, int(4 * number_of_rows)))\n",
    "        for i, sample_SPECIMEN_pattern in enumerate(sample_SPECIMEN_pattern_list):\n",
    "            sample_SPECIMEN = sample_SPECIMEN_pattern.split('_pattern')[0]\n",
    "            pattern_number = sample_SPECIMEN_pattern.split('_pattern')[1]\n",
    "        #     print(sample_SPECIMEN)\n",
    "        #     print(pattern_number)\n",
    "            \n",
    "            # To remove the patient ID from the title\n",
    "            title_without_patientid = str(sample_SPECIMEN_pattern)\n",
    "            title_without_patientid = re.sub('P17851_1001', 'P1_1001', title_without_patientid)\n",
    "            title_without_patientid = re.sub('P17851_1002', 'P1_1002', title_without_patientid)\n",
    "            title_without_patientid = re.sub('P17851_1003', 'P2_1003', title_without_patientid)\n",
    "            title_without_patientid = re.sub('P17851_1004', 'P2_1004', title_without_patientid)\n",
    "            title_without_patientid = re.sub('P18554_1001', 'P3_1001', title_without_patientid)\n",
    "            title_without_patientid = re.sub('P18554_1002', 'P3_1002', title_without_patientid)\n",
    "            title_without_patientid = re.sub('P18554_1003', 'P4_1003', title_without_patientid)\n",
    "            title_without_patientid = re.sub('P18554_1004', 'P4_1004', title_without_patientid)        \n",
    "            title_without_patientid = re.sub('P18554_1005', 'P1_1005', title_without_patientid)\n",
    "            title_without_patientid = re.sub('P18554_1006', 'P1_1006', title_without_patientid)\n",
    "            title_without_patientid = re.sub('P18554_1007', 'P1_1007', title_without_patientid)\n",
    "            title_without_patientid = re.sub('P18554_1008', 'P1_1008', title_without_patientid)\n",
    "\n",
    "            #Subset the data\n",
    "            adata_sample_SPECIMEN = adata[(adata.obs['sample_SPECIMEN']== sample_SPECIMEN)].copy()\n",
    "            all_patterns_df_temp = all_patterns_df[all_patterns_df['sample_SPECIMEN'] == sample_SPECIMEN]\n",
    "            \n",
    "            # Plotting subplots\n",
    "            ax = plt.subplot(number_of_rows, number_of_columns, i + 1)\n",
    "            if ((adata_sample_SPECIMEN.obs['sample'].unique() == 'P17851_1002') | (adata_sample_SPECIMEN.obs['sample'].unique() == 'P18554_1006') | (adata_sample_SPECIMEN.obs['sample'].unique() == 'P18554_1002')):\n",
    "                ax.invert_xaxis() \n",
    "                ax.invert_yaxis()\n",
    "            plt.scatter(all_patterns_df_temp['array_col'], -1.5*all_patterns_df_temp['array_row'], c = all_patterns_df_temp[str(pattern_number)], s = 80); # Note: if patterns.csv is read in, you might need to change it to patterns[str(i)] \n",
    "            plt.axis('equal')\n",
    "            plt.title(title_without_patientid, fontsize = 15) #sample_SPECIMEN_pattern, fontsize = 15)\n",
    "            plt.colorbar().remove()\n",
    "            #plt.colorbar(ticks=[all_patterns_df_temp[str(pattern_number)].min(), 0, all_patterns_df_temp[str(pattern_number)].max()]);\n",
    "            ax.spines[:].set_color('purple')\n",
    "            ax.spines[:].set_linewidth(2)\n",
    "            ax.tick_params(axis='both',          # changes apply to the x-axis\n",
    "                            which='both',      # both major and minor ticks are affected\n",
    "                            bottom=False,      # ticks along the bottom edge are off\n",
    "                            top=False, # ticks along the top edge are off\n",
    "                            left=False, \n",
    "                            labelleft=False,\n",
    "                            labelbottom=False) # labels along the bottom edge are off\n",
    "    \n",
    "            ax = plt.subplot(number_of_rows, number_of_columns, i + 1 + number_of_rows_per_category * number_of_columns)\n",
    "            if ((adata_sample_SPECIMEN.obs['sample'].unique() == 'P17851_1002') | (adata_sample_SPECIMEN.obs['sample'].unique() == 'P18554_1006') | (adata_sample_SPECIMEN.obs['sample'].unique() == 'P18554_1002')):\n",
    "                ax.invert_xaxis() \n",
    "                ax.invert_yaxis()\n",
    "            plt.scatter(adata_sample_SPECIMEN.obs['array_col'], -1.5*adata_sample_SPECIMEN.obs['array_row'], c = adata_sample_SPECIMEN.obs['spot_type'].map(spot_colors), s = 80); # Note: if patterns.csv is read in, you might need to change it to patterns[str(i)] \n",
    "            plt.axis('equal')\n",
    "            #plt.title(sample_SPECIMEN_pattern + '\\n coloured by spot type')\n",
    "            ax.spines[:].set_color('purple')\n",
    "            ax.spines[:].set_linewidth(2)\n",
    "            ax.tick_params(axis='both',          # changes apply to the x-axis\n",
    "                            which='both',      # both major and minor ticks are affected\n",
    "                            bottom=False,      # ticks along the bottom edge are off\n",
    "                            top=False, # ticks along the top edge are off\n",
    "                            left=False, \n",
    "                            labelleft=False,\n",
    "                            labelbottom=False) # labels along the bottom edge are off\n",
    "            \n",
    "            ax = plt.subplot(number_of_rows, number_of_columns, i + 1 + 2 * number_of_rows_per_category * number_of_columns)\n",
    "            if ((adata_sample_SPECIMEN.obs['sample'].unique() == 'P17851_1002') | (adata_sample_SPECIMEN.obs['sample'].unique() == 'P18554_1006') | (adata_sample_SPECIMEN.obs['sample'].unique() == 'P18554_1002')):\n",
    "                ax.invert_xaxis() \n",
    "                ax.invert_yaxis()\n",
    "            plt.scatter(adata_sample_SPECIMEN.obs['array_col'], -1.5*adata_sample_SPECIMEN.obs['array_row'], c = adata_sample_SPECIMEN.obs['leiden_r1.3_patient'].map(leiden_r13_colours), s = 80); # Note: if patterns.csv is read in, you might need to change it to patterns[str(i)] \n",
    "            plt.axis('equal')\n",
    "            #plt.title(sample_SPECIMEN_pattern + '\\n coloured by leiden clusters (r = 1.3)')\n",
    "            ax.spines[:].set_color('purple')\n",
    "            ax.spines[:].set_linewidth(2)\n",
    "            ax.tick_params(axis='both',          # changes apply to the x-axis\n",
    "                            which='both',      # both major and minor ticks are affected\n",
    "                            bottom=False,      # ticks along the bottom edge are off\n",
    "                            top=False, # ticks along the top edge are off\n",
    "                            left=False, \n",
    "                            labelleft=False,\n",
    "                            labelbottom=False) # labels along the bottom edge are off\n",
    "            \n",
    "            for j, annotation in enumerate(list_of_annotations):\n",
    "                ax = plt.subplot(number_of_rows, number_of_columns, i + 1 + (3 + j) * number_of_rows_per_category * number_of_columns)\n",
    "                if ((adata_sample_SPECIMEN.obs['sample'].unique() == 'P17851_1002') | (adata_sample_SPECIMEN.obs['sample'].unique() == 'P18554_1006') | (adata_sample_SPECIMEN.obs['sample'].unique() == 'P18554_1002')):\n",
    "                    ax.invert_xaxis() \n",
    "                    ax.invert_yaxis()\n",
    "                plt.scatter(adata_sample_SPECIMEN.obs['array_col'], -1.5*adata_sample_SPECIMEN.obs['array_row'], c = adata_sample_SPECIMEN.obs[annotation], s = 80); # Note: if patterns.csv is read in, you might need to change it to patterns[str(i)] \n",
    "                plt.axis('equal')\n",
    "                plt.title(sample_SPECIMEN_pattern + '\\n coloured by ' + annotation)"
   ]
  },
  {
   "cell_type": "code",
   "execution_count": null,
   "id": "770e58a3",
   "metadata": {},
   "outputs": [],
   "source": [
    "# Import adata \n",
    "adata_path = \"../results/current/\"\n",
    "\n",
    "adata = sc.read(os.path.join(adata_path, \"final/Granuloma_QC_clustering.h5\"))\n",
    "    \n",
    "# setting up \"factors\" with different levels, order = TRUE\n",
    "# add less common annotations LAST so they are not overwritten\n",
    "\n",
    "# Set spot_type and skin_layer as categories and define the levels in each category\n",
    "# Spot type: annatomical annotations\n",
    "adata.obs['spot_type'] = pd.Categorical(\n",
    "    adata.obs['spot_type'],\n",
    "    categories = ['UNDETERMINED', 'DERMIS', \"EPIDERMIS\", 'INTERFACE', 'HAIR FOLLICLE',\n",
    "                'VESSEL', 'MUSCLE', 'SEBACEOUS GLAND', 'SWEAT GLAND', 'GA', 'GNL', 'GSS', 'GSC'],\n",
    "                 ordered = True)\n",
    "\n",
    "# Skin layer\n",
    "adata.obs['skin_layer'] = pd.Categorical(\n",
    "    adata.obs['skin_layer'],\n",
    "    categories = ['UNDETERMINED', \n",
    "                'upper EPIDERMIS', 'middle EPIDERMIS', 'basal EPIDERMIS',\n",
    "                'DERdepth1', 'DERdepth2', 'DERdepth3', 'DERdepth4',\n",
    "                'DERdepth5', 'DERdepth6', 'DERdepth7'],\n",
    "    ordered = True)"
   ]
  },
  {
   "cell_type": "code",
   "execution_count": null,
   "id": "d133d520",
   "metadata": {},
   "outputs": [],
   "source": [
    "os.chdir(\"/Volumes/Drive/spatial_granuloma/output/SpatialDE/Intensity_ratios/\") # Set working directory so it saves it in the drive\n",
    "print(os.getcwd())"
   ]
  },
  {
   "cell_type": "markdown",
   "id": "3879bb4b",
   "metadata": {},
   "source": [
    "#### Creating annotations <a class=\"anchor\" id=\"chapter2\"></a>"
   ]
  },
  {
   "cell_type": "code",
   "execution_count": null,
   "id": "94640c4e",
   "metadata": {},
   "outputs": [],
   "source": [
    "# Set leiden r = 1.3 clusters as ground truth - \n",
    "# We will group all leiden clusters in 4 clusters: core granuloma, border, and non-granuloma, epidermis pattern ('annotation groups').\n",
    "\n",
    "#sns.countplot(x='leiden_r1.3_patient', data=adata.obs, hue = 'Border_spot') # Border spots generally map to cluster 3\n",
    "#sns.countplot(x='leiden_r1.3_patient', data=adata.obs, hue = 'GRANULOMA')\n",
    "\n",
    "adata.obs['leiden_core_granuloma'] = np.where(adata.obs['leiden_r1.3_patient'] == '3', 1, 0)\n",
    "adata.obs['leiden_border_granuloma'] = np.where((adata.obs['leiden_r1.3_patient'] == '12') | \n",
    "                                                (adata.obs['leiden_r1.3_patient'] == '13'), 1, 0)\n",
    "adata.obs['leiden_epidermis'] = np.where((adata.obs['leiden_r1.3_patient'] == '11') | \n",
    "                                  (adata.obs['leiden_r1.3_patient'] == '14') | \n",
    "                                  (adata.obs['leiden_r1.3_patient'] == '15'), 1, 0)\n",
    "adata.obs['leiden_granuloma'] = np.where((adata.obs['leiden_r1.3_patient'] == '3') | \n",
    "                                  (adata.obs['leiden_r1.3_patient'] == '12') |\n",
    "                                  (adata.obs['leiden_r1.3_patient'] == '13'), 1, 0)\n",
    "adata.obs['manual_granuloma'] = np.where(adata.obs['GRANULOMA'] == 1, 1, 0)\n",
    "adata.obs['epidermis_interface'] = np.where((adata.obs['spot_type'] == 'EPIDERMIS') | \n",
    "                                  (adata.obs['spot_type'] == 'INTERFACE'), 1, 0)\n",
    "\n",
    "# To check if it worked\n",
    "#sns.countplot(x='leiden_r1.3_patient', data=adata.obs, hue = 'leiden_nongranuloma')"
   ]
  },
  {
   "cell_type": "code",
   "execution_count": null,
   "id": "614447b6",
   "metadata": {},
   "outputs": [],
   "source": [
    "adata_subset = adata[(adata.obs['sample_SPECIMEN']== 'P18554_1001_50107-A')]\n",
    "\n",
    "fig = plt.figure(facecolor = 'w', edgecolor = 'k', figsize = (12, 12))\n",
    "\n",
    "plt.subplot(3, 2, 1)\n",
    "plt.title('Leiden granuloma')\n",
    "plt.scatter(adata_subset.obs['array_col'], \n",
    "            -1.5*adata_subset.obs['array_row'],\n",
    "            c = adata_subset.obs['leiden_granuloma'])\n",
    "plt.colorbar(ticks=[]);\n",
    "\n",
    "plt.subplot(3, 2, 2)\n",
    "plt.title('Manual granuloma')\n",
    "plt.scatter(adata_subset.obs['array_col'], \n",
    "            -1.5*adata_subset.obs['array_row'],\n",
    "            c = adata_subset.obs['manual_granuloma'])\n",
    "plt.colorbar(ticks=[]);\n",
    "\n",
    "plt.subplot(3, 2, 3)\n",
    "plt.title('Leiden epidermis')\n",
    "plt.scatter(adata_subset.obs['array_col'], \n",
    "            -1.5*adata_subset.obs['array_row'],\n",
    "            c = adata_subset.obs['leiden_epidermis'])\n",
    "plt.colorbar(ticks=[]);\n",
    "\n",
    "plt.subplot(3, 2, 4)\n",
    "plt.title('Manual epidermis-interface')\n",
    "plt.scatter(adata_subset.obs['array_col'], \n",
    "            -1.5*adata_subset.obs['array_row'],\n",
    "            c = adata_subset.obs['epidermis_interface'])\n",
    "plt.colorbar(ticks=[]);\n",
    "\n",
    "plt.subplot(3, 2, 5)\n",
    "plt.title('Leiden granuloma core')\n",
    "plt.scatter(adata_subset.obs['array_col'], \n",
    "            -1.5*adata_subset.obs['array_row'],\n",
    "            c = adata_subset.obs['leiden_core_granuloma'])\n",
    "plt.colorbar(ticks=[]);\n",
    "\n",
    "plt.subplot(3, 2, 6)\n",
    "plt.title('Leiden border')\n",
    "plt.scatter(adata_subset.obs['array_col'], \n",
    "            -1.5*adata_subset.obs['array_row'],\n",
    "            c = adata_subset.obs['leiden_border_granuloma'])\n",
    "plt.colorbar(ticks=[]);"
   ]
  },
  {
   "cell_type": "markdown",
   "id": "2062893f",
   "metadata": {},
   "source": [
    "#### Reading in data <a class=\"anchor\" id=\"chapter3\"></a>"
   ]
  },
  {
   "cell_type": "code",
   "execution_count": null,
   "id": "3ed5fdb5",
   "metadata": {},
   "outputs": [],
   "source": [
    "# # Read in files\n",
    "# all_sample_info_df = pd.read_csv('all_sample_info_df.csv', index_col=0, header=0)\n",
    "# all_patterns_df = pd.read_csv('all_patterns_df.csv', header=0, usecols = range(2, 12)) # the first two columns are just row numbers (indexes\n",
    "# all_df = pd.read_csv('all_df.csv', index_col=0, header=0)\n",
    "# freqtable_all = pd.read_csv('freqtable_all.csv', index_col=0, header=0)\n",
    "# df_all = pd.concat([all_sample_info_df, all_patterns_df.reindex(all_sample_info_df.index)], axis = 1)\n",
    "# df_all = df_all.rename(columns={'Unnamed: 0': 'spot_index'})\n",
    "# df_all.head()\n",
    "\n",
    "# df_all = pd.concat([all_sample_info_df, all_patterns_df.reindex(all_sample_info_df.index)], axis = 1)\n",
    "# df_all = df_all.rename(columns={'Unnamed: 0': 'spot_index'})\n",
    "# df_all.head()\n",
    "\n",
    "# # And save for nextime\n",
    "# df_all.to_csv('patterns_samples_merged.csv')\n",
    "\n",
    "df_all = pd.read_csv('patterns_samples_merged.csv', index_col = 0)\n",
    "patterns_columns = ['0', '1', '2', '3', '4', '5', '6', '7']"
   ]
  },
  {
   "cell_type": "code",
   "execution_count": null,
   "id": "a5440ef1",
   "metadata": {},
   "outputs": [],
   "source": [
    "# Checking that the dataframes with sample_info and patterns_info were correctly merged\n",
    "\n",
    "adata_subset = df_all[(df_all['sample_SPECIMEN']== 'P18554_1001_50107-A')] # define here the sample_SPECIMEN you want to display\n",
    "plt.scatter(adata_subset['array_col'], \n",
    "            -1.5*adata_subset['array_row'],\n",
    "            c = adata_subset['1']) # define here the pattern you want to display\n",
    "plt.colorbar(ticks=[]);"
   ]
  },
  {
   "cell_type": "code",
   "execution_count": null,
   "id": "92866156",
   "metadata": {},
   "outputs": [],
   "source": [
    "# df_all has all the data per spot for each pattern (sample_SPECIMEN_pattern)\n",
    "df_all.head()"
   ]
  },
  {
   "cell_type": "code",
   "execution_count": null,
   "id": "f6c053b3",
   "metadata": {},
   "outputs": [],
   "source": [
    "# Check the distribution of intensities across patterns of a specific sample_SPECIMEN\n",
    "df_all[df_all['sample_SPECIMEN'] == 'P18554_1001_50107-A']\n",
    "#sns.histplot(data = df_all[df_all['sample_SPECIMEN'] == 'P18554_1001_50107-A'], x='0')\n",
    "sns.histplot(data = df_all[df_all['sample_SPECIMEN'] == 'P18554_1001_50107-A'], x='1')\n",
    "# Check the absolute minimum and maximum across all patterns\n",
    "print('the minimum across all patterns is: ' + str(df_all[patterns_columns].min().min()))\n",
    "print('the maximum across all patterns is: ' + str(df_all[patterns_columns].max().max()))"
   ]
  },
  {
   "cell_type": "markdown",
   "id": "13896ec0",
   "metadata": {},
   "source": [
    "#### Wilcoxon test <a class=\"anchor\" id=\"chapter6\"></a>"
   ]
  },
  {
   "cell_type": "markdown",
   "id": "671871cb",
   "metadata": {},
   "source": [
    "## Wilcoxon test"
   ]
  },
  {
   "cell_type": "code",
   "execution_count": null,
   "id": "b51e4310",
   "metadata": {},
   "outputs": [],
   "source": [
    "# # Merging adata.obs and df_all\n",
    "# We only need to do this once, you can skip to the next cell to just load the files\n",
    "\n",
    "# sample_SPECIMEN_list = ['P18554_1008_72859-B', 'P18554_1003_95096-A',\n",
    "#        'P17851_1002_91253-A', 'P18554_1004_95096-A',\n",
    "#        'P18554_1008_72859-A', 'P18554_1005_82301-B',\n",
    "#        'P18554_1007_72859-B', 'P18554_1005_82301-A',\n",
    "#        'P18554_1007_72859-A', 'P18554_1006_82301-A',\n",
    "#        'P17851_1003_45703-A', 'P18554_1002_50107-A',\n",
    "#        'P18554_1006_82301-B', 'P18554_1001_50107-A',\n",
    "#        'P17851_1004_45703-A', 'P17851_1001_91253-A',\n",
    "#        'P17851_1002_91253-B']\n",
    "\n",
    "# #sample_SPECIMEN_list = ['P18554_1001_50107-A']\n",
    "\n",
    "# # ---------------------------------------------------------------------------\n",
    "# adata_df_all_merged = []\n",
    "# for sample_SPECIMEN in sample_SPECIMEN_list:\n",
    "#     patterns_info = df_all[df_all['sample_SPECIMEN'] == sample_SPECIMEN] # subset the patterns dataframe for 1 sample_SPECIMEN\n",
    "#     adata_sub = adata.obs[adata.obs['sample_SPECIMEN'] == sample_SPECIMEN].copy() # subset the adata.obs\n",
    "#     adata_sub['spot_index'] = adata_sub.index\n",
    "#     adata_sub.reset_index(inplace = True)\n",
    "# #     print(adata_sub.columns)\n",
    "# #     print(patterns_info.shape)\n",
    "# #     print(adata_sub.shape)\n",
    "#     superdf = patterns_info.merge(adata_sub, how = 'outer', right_on = ['spot_index', 'sample_SPECIMEN', 'array_col', 'array_row', 'n_counts'], left_on = ['spot_index', 'sample_SPECIMEN', 'array_col', 'array_row', 'n_counts']) # merge them together in one super df\n",
    "#     #print(superdf.columns)\n",
    "#     adata_df_all_merged.append(superdf) \n",
    "# adata_df_all_merged = pd.concat(adata_df_all_merged)\n",
    "\n",
    "# print(adata_df_all_merged.shape)\n",
    "# adata_df_all_merged.head()\n",
    "\n",
    "# adata_df_all_merged.to_csv('adata_df_all_merged.csv')"
   ]
  },
  {
   "cell_type": "code",
   "execution_count": null,
   "id": "b5217bd0",
   "metadata": {},
   "outputs": [],
   "source": [
    "intensity_df = pd.read_csv('adata_df_all_merged.csv', header = 0, index_col = 0)\n",
    "intensity_df = intensity_df.reset_index(drop = True)\n",
    "intensity_df.head()\n",
    "# Slice to some columns\n",
    "intensity_df = intensity_df[['spot_index', 'array_row', 'array_col', 'n_counts', 'sample_SPECIMEN', \n",
    "                            '0', '1', '2', '3', '4', '5', '6', '7', \n",
    "                            'leiden_core_granuloma', 'leiden_border_granuloma', 'leiden_epidermis', 'leiden_granuloma', 'manual_granuloma', 'epidermis_interface']]\n",
    "\n",
    "# Melt the dataframe so that all leiden_columns are condensed in 1 column\n",
    "intensity_df = pd.melt(intensity_df, \n",
    "                       id_vars=['spot_index', 'array_row', 'array_col', 'n_counts', 'sample_SPECIMEN', '0', '1', '2', '3', '4', '5', '6', '7'], \n",
    "                       value_vars= ['leiden_core_granuloma', 'leiden_border_granuloma', 'leiden_epidermis', 'leiden_granuloma', 'manual_granuloma', 'epidermis_interface'], \n",
    "                       value_name = 'annotation_value', \n",
    "                       var_name = 'annotation')\n",
    "intensity_df.head()\n",
    "\n",
    "# Melt the dataframe so that all patterns are condensed in 1 column\n",
    "intensity_df = pd.melt(intensity_df, id_vars=['spot_index', 'array_row', 'array_col', 'n_counts', 'sample_SPECIMEN', 'annotation', 'annotation_value'], \n",
    "                       value_vars= patterns_columns, \n",
    "                       value_name = 'intensity', \n",
    "                       var_name = 'pattern')\n",
    "intensity_df.head()\n",
    "\n",
    "# Add sample_SPECIMEN_pattern\n",
    "intensity_df['sample_SPECIMEN_pattern'] = intensity_df['sample_SPECIMEN'] + '_pattern' + intensity_df['pattern']\n",
    "intensity_df.head()"
   ]
  },
  {
   "cell_type": "code",
   "execution_count": null,
   "id": "3fb540de",
   "metadata": {},
   "outputs": [],
   "source": [
    "intensity_df.groupby(['annotation', 'annotation_value'])['intensity'].describe()"
   ]
  },
  {
   "cell_type": "code",
   "execution_count": null,
   "id": "43426fc7",
   "metadata": {},
   "outputs": [],
   "source": [
    "# For the nice pattern P18554_1001_50107-A_pattern1\n",
    "g = sns.catplot(x=\"sample_SPECIMEN_pattern\", y=\"intensity\",\n",
    "                hue=\"annotation_value\", col=\"annotation\",\n",
    "                data=intensity_df[intensity_df['sample_SPECIMEN_pattern'] == 'P18554_1001_50107-A_pattern1'], kind=\"box\",\n",
    "                height = 5, aspect = 1, col_wrap = 2, \n",
    "                col_order = ['manual_granuloma', 'leiden_granuloma', 'epidermis_interface', 'leiden_epidermis', 'leiden_border_granuloma', 'leiden_core_granuloma']);"
   ]
  },
  {
   "cell_type": "code",
   "execution_count": null,
   "id": "3a315aa0",
   "metadata": {},
   "outputs": [],
   "source": [
    "intensity_df\n",
    "g = sns.relplot(x = \"sample_SPECIMEN_pattern\", y = \"intensity\",\n",
    "                hue = \"annotation_value\", col = \"annotation\",\n",
    "                data = intensity_df, kind = \"line\",\n",
    "                height = 5, aspect = 1.2, col_wrap = 2,\n",
    "                col_order = ['manual_granuloma', 'leiden_granuloma', 'epidermis_interface', 'leiden_epidermis', 'leiden_border_granuloma', 'leiden_core_granuloma']);\n",
    "g.set_xticklabels(rotation=90, fontsize = 10)"
   ]
  },
  {
   "cell_type": "code",
   "execution_count": null,
   "id": "f01cb5cb",
   "metadata": {
    "scrolled": false
   },
   "outputs": [],
   "source": [
    "# Testing Wilcoxon test for one sample pattern \n",
    "\n",
    "# df1 = intensity_df[(intensity_df['annotation_value'] == 0) & \n",
    "#              (intensity_df['sample_SPECIMEN_pattern'] == 'P18554_1001_50107-A_pattern1') &\n",
    "#             (intensity_df['annotation'] == 'leiden_core_granuloma')]\n",
    "# df2 = intensity_df[(intensity_df['annotation_value'] == 1) & \n",
    "#              (intensity_df['sample_SPECIMEN_pattern'] == 'P18554_1001_50107-A_pattern1') &\n",
    "#             (intensity_df['annotation'] == 'leiden_core_granuloma')]\n",
    "\n",
    "# statistic, pvalue = stats.ranksums(df1['intensity'], df2['intensity'])\n",
    "# print('core')\n",
    "# print(statistic)\n",
    "# print(pvalue)\n",
    "\n",
    "\n",
    "# df3 = intensity_df[(intensity_df['annotation_value'] == 0) & \n",
    "#              (intensity_df['sample_SPECIMEN_pattern'] == 'P18554_1001_50107-A_pattern1') &\n",
    "#             (intensity_df['annotation'] == 'leiden_epidermis')]\n",
    "# df4 = intensity_df[(intensity_df['annotation_value'] == 1) & \n",
    "#              (intensity_df['sample_SPECIMEN_pattern'] == 'P18554_1001_50107-A_pattern1') &\n",
    "#             (intensity_df['annotation'] == 'leiden_epidermis')]\n",
    "\n",
    "# statistic4, pvalue4 = stats.ranksums(df3['intensity'], df4['intensity'])\n",
    "# print('')\n",
    "# print('epidermis')\n",
    "# print(statistic4)\n",
    "# print(pvalue4)\n",
    "\n",
    "\n",
    "# df5 = intensity_df[(intensity_df['annotation_value'] == 0) & \n",
    "#              (intensity_df['sample_SPECIMEN_pattern'] == 'P18554_1001_50107-A_pattern1') &\n",
    "#             (intensity_df['annotation'] == 'leiden_nongranuloma')]\n",
    "# df6 = intensity_df[(intensity_df['annotation_value'] == 1) & \n",
    "#              (intensity_df['sample_SPECIMEN_pattern'] == 'P18554_1001_50107-A_pattern1') &\n",
    "#             (intensity_df['annotation'] == 'leiden_nongranuloma')]\n",
    "\n",
    "# statistic4, pvalue4 = stats.ranksums(df5['intensity'], df6['intensity'])\n",
    "# print('')\n",
    "# print('nongran')\n",
    "# print(statistic4)\n",
    "# print(pvalue4)"
   ]
  },
  {
   "cell_type": "code",
   "execution_count": null,
   "id": "6818304f",
   "metadata": {},
   "outputs": [],
   "source": [
    "# The Wilcoxon signed-rank test tests the null hypothesis that two related paired samples come from the same \n",
    "# distribution. In particular, it tests whether the distribution of the differences x - y is symmetric about zero. \n",
    "# It is a non-parametric version of the paired T-test.\n",
    "\n",
    "sample_SPECIMEN_pattern_list = list(intensity_df['sample_SPECIMEN_pattern'].unique())\n",
    "annotation_list = list(intensity_df['annotation'].unique())\n",
    "\n",
    "statistics_list = []\n",
    "pvalue_list = []\n",
    "ssp_list = []\n",
    "ann_list = []\n",
    "\n",
    "for sample_SPECIMEN_pattern in sample_SPECIMEN_pattern_list:\n",
    "    for annotation in annotation_list:\n",
    "        # subset the intensity_df\n",
    "        intensity_df_sub = intensity_df[(intensity_df['annotation'] == annotation) & (intensity_df['sample_SPECIMEN_pattern'] == sample_SPECIMEN_pattern)]\n",
    "        # obtain the two lists for annotation_value = 0 and annotation_value = 1\n",
    "        intensity_0 = intensity_df_sub[intensity_df_sub['annotation_value'] == 0]\n",
    "        intensity_1 = intensity_df_sub[intensity_df_sub['annotation_value'] == 1]\n",
    "        \n",
    "        #wilcoxon test for the subset\n",
    "        statistic, pvalue = stats.ranksums(intensity_1['intensity'], intensity_0['intensity'])\n",
    "        \n",
    "        # add the output to list\n",
    "        statistics_list.append(statistic)\n",
    "        pvalue_list.append(pvalue)\n",
    "        \n",
    "        # This is not so nice code but it this way we'll be sure the right sample_SPECIMEN_pattern and annotation is associated with the right wilcoxon result \n",
    "        ssp_list.append(sample_SPECIMEN_pattern)\n",
    "        ann_list.append(annotation)\n",
    "        \n",
    "wilcox_df = pd.DataFrame({'sample_SPECIMEN_pattern': ssp_list,\n",
    "                         'annotation': ann_list,\n",
    "                         'statistic': statistics_list,\n",
    "                         'pvalue': pvalue_list})\n",
    "\n",
    "# Add the minus log pvalue and the sign of the statistic\n",
    "wilcox_df['signed_pvalue'] = np.sign(wilcox_df['statistic']) * (-np.log10(wilcox_df['pvalue']))\n",
    "\n",
    "#wilcox_df.to_csv('wilcox_df.csv') # Uncomment this if you want to save the wilcoxon results dataframe\n",
    "wilcox_df.head()"
   ]
  },
  {
   "cell_type": "code",
   "execution_count": null,
   "id": "fec3efcb",
   "metadata": {},
   "outputs": [],
   "source": [
    "# Check the distribution of wilcoxon_df for P18554_1001_50107-A_pattern1 and P18554_1001_50107-A_pattern0\n",
    "wilcox_df[wilcox_df['sample_SPECIMEN_pattern'].isin(['P18554_1001_50107-A_pattern0', 'P18554_1001_50107-A_pattern1', 'P18554_1001_50107-A_pattern2', 'P18554_1001_50107-A_pattern3'])]"
   ]
  },
  {
   "cell_type": "code",
   "execution_count": null,
   "id": "40f69ef4",
   "metadata": {
    "scrolled": true
   },
   "outputs": [],
   "source": [
    "# Check the distribution of the wilcoxon minuslog(pvalue)_signed across patterns\n",
    "\n",
    "# if you want the annotations each in a separate plot, substitute hue by col, and the set the col_wrap to 2 (2 columns)\n",
    "g = sns.relplot(data = wilcox_df, x = 'sample_SPECIMEN_pattern', y='signed_pvalue', kind = 'scatter', col='annotation', \n",
    "               col_wrap = 2, height = 5, aspect = 1.8, alpha = 0.8,\n",
    "               col_order = ['manual_granuloma', 'leiden_granuloma', 'epidermis_interface', 'leiden_epidermis', 'leiden_border_granuloma', 'leiden_core_granuloma']);\n",
    "# (g.set_axis_labels(\"Patterns\", \"Average intensity per group\")\n",
    "#   .set_titles(\"Annotation: {col_name}\"))\n",
    "g.set_xticklabels(rotation=90, fontsize = 10)"
   ]
  },
  {
   "cell_type": "code",
   "execution_count": null,
   "id": "d41022f6",
   "metadata": {
    "scrolled": true
   },
   "outputs": [],
   "source": [
    "# dataframe sorted by the the minimum minuslogp_signed for each annotation\n",
    "wilcox_df_core = wilcox_df[wilcox_df['annotation'] == 'leiden_core_granuloma'].sort_values(by = 'signed_pvalue')\n",
    "wilcox_df_border = wilcox_df[wilcox_df['annotation'] == 'leiden_border_granuloma'].sort_values(by = 'signed_pvalue')\n",
    "wilcox_df_leidenepidermis = wilcox_df[wilcox_df['annotation'] == 'leiden_epidermis'].sort_values(by = 'signed_pvalue')\n",
    "wilcox_df_nongranuloma = wilcox_df[wilcox_df['annotation'] == 'leiden_granuloma'].sort_values(by = 'signed_pvalue')\n",
    "wilcox_df_epidermis = wilcox_df[wilcox_df['annotation'] == 'epidermis_interface'].sort_values(by = 'signed_pvalue')\n",
    "\n",
    "# Let's visualise it! \n",
    "print('Top 10 core granuloma')\n",
    "plot_in_order_withcategory(anndata = adata, patternsdf = df_all, patternlist = list(wilcox_df_core['sample_SPECIMEN_pattern'].tail(10)), category = 'leiden_core_granuloma')\n",
    "print('Top 10 border granuloma')\n",
    "plot_in_order_withcategory(anndata = adata, patternsdf = df_all, patternlist = list(wilcox_df_border['sample_SPECIMEN_pattern'].tail(10)), category = 'leiden_border_granuloma')\n",
    "print('Top 10 granuloma')\n",
    "plot_in_order_withcategory(anndata = adata, patternsdf = df_all, patternlist = list(wilcox_df_nongranuloma['sample_SPECIMEN_pattern'].tail(10)), category = 'leiden_granuloma')\n",
    "print('Top 10 Leiden epidermis')\n",
    "plot_in_order_withcategory(anndata = adata, patternsdf = df_all, patternlist = list(wilcox_df_leidenepidermis['sample_SPECIMEN_pattern'].tail(10)), category = 'leiden_epidermis')\n",
    "print('Top 10 manual epidermis')\n",
    "plot_in_order_withcategory(anndata = adata, patternsdf = df_all, patternlist = list(wilcox_df_epidermis['sample_SPECIMEN_pattern'].tail(10)), category = 'epidermis_interface')\n"
   ]
  },
  {
   "cell_type": "code",
   "execution_count": null,
   "id": "7ac1f414",
   "metadata": {},
   "outputs": [],
   "source": [
    "# Select the top 30 patterns with wilcox minuslogPsigned < 0 for the core granuloma (plot by groups)\n",
    "wilcoxtopcore = wilcox_df[(wilcox_df['annotation'] == 'leiden_core_granuloma') & (wilcox_df['signed_pvalue'] > 0)].sort_values(by = 'signed_pvalue')\n",
    "list(wilcoxtopcore['sample_SPECIMEN_pattern'])\n",
    "plot_in_order_withcategory(anndata = adata, patternsdf = df_all, patternlist = list(wilcoxtopcore['sample_SPECIMEN_pattern'])[:10], category = 'leiden_core_granuloma')\n",
    "plot_in_order_withcategory(anndata = adata, patternsdf = df_all, patternlist = list(wilcoxtopcore['sample_SPECIMEN_pattern'])[10:20], category = 'leiden_core_granuloma')\n",
    "plot_in_order_withcategory(anndata = adata, patternsdf = df_all, patternlist = list(wilcoxtopcore['sample_SPECIMEN_pattern'])[20:30], category = 'leiden_core_granuloma')"
   ]
  },
  {
   "cell_type": "code",
   "execution_count": null,
   "id": "56589457",
   "metadata": {},
   "outputs": [],
   "source": [
    "# Check for which patterns border and core differ the most\n",
    "#wilcox_df[wilcox_df['annotation'] == 'leiden_core_granuloma'\n",
    "\n",
    "w_pivot = wilcox_df.pivot(index=\"sample_SPECIMEN_pattern\", columns='annotation', values=\"signed_pvalue\")\n",
    "w_pivot['borderminuscore'] = w_pivot['leiden_border_granuloma'] - w_pivot['leiden_core_granuloma']\n",
    "top10 = w_pivot.sort_values(by = 'borderminuscore').head(10).index # these have a much higher score for core >> border\n",
    "last10 = w_pivot.sort_values(by = 'borderminuscore').tail(10).index # these have a much higher score for border >> core\n",
    "w_pivot"
   ]
  },
  {
   "cell_type": "code",
   "execution_count": null,
   "id": "20293019",
   "metadata": {},
   "outputs": [],
   "source": [
    "plot_in_order_annotations(anndata = adata, patternsdf = df_all, patternlist = list(top10), list_of_annotations = ['leiden_core_granuloma', 'leiden_border_granuloma'])\n",
    "\n",
    "plot_in_order_annotations(anndata = adata, patternsdf = df_all, patternlist = list(last10), list_of_annotations = ['leiden_core_granuloma', 'leiden_border_granuloma'])"
   ]
  },
  {
   "cell_type": "markdown",
   "id": "7f2298e4",
   "metadata": {},
   "source": [
    "### Plot k means clustering patterns"
   ]
  },
  {
   "cell_type": "code",
   "execution_count": null,
   "id": "e0fe5a2e",
   "metadata": {},
   "outputs": [],
   "source": [
    "# Granuloma cluster\n",
    "cluster4 = [\"P17851_1001_91253-A_pattern6\", \"P17851_1002_91253-A_pattern5\", \"P17851_1002_91253-B_pattern1\", \"P17851_1003_45703-A_pattern6\", \"P17851_1004_45703-A_pattern7\", \"P18554_1001_50107-A_pattern1\", \"P18554_1002_50107-A_pattern5\", \"P18554_1003_95096-A_pattern6\", \"P18554_1004_95096-A_pattern7\", \"P18554_1005_82301-A_pattern4\", \"P18554_1005_82301-B_pattern1\", \"P18554_1006_82301-A_pattern5\", \"P18554_1006_82301-B_pattern7\", \"P18554_1007_72859-A_pattern3\", \"P18554_1007_72859-B_pattern5\", \"P18554_1008_72859-A_pattern4\", \"P18554_1008_72859-B_pattern3\"]\n",
    "# Granuloma cluster (small)\n",
    "cluster2 = [\"P17851_1002_91253-A_pattern1\", \"P18554_1001_50107-A_pattern7\", \"P18554_1002_50107-A_pattern4\", \"P18554_1004_95096-A_pattern2\", \"P18554_1005_82301-A_pattern0\", \"P18554_1007_72859-B_pattern6\", \"P18554_1008_72859-A_pattern3\", \"P18554_1008_72859-B_pattern1\"]\n",
    "# Inner epidermis cluster\n",
    "cluster5 = [\"P17851_1001_91253-A_pattern0\", \"P17851_1002_91253-A_pattern4\", \"P17851_1002_91253-B_pattern4\", \"P17851_1003_45703-A_pattern2\", \"P17851_1004_45703-A_pattern4\", \"P18554_1001_50107-A_pattern6\", \"P18554_1003_95096-A_pattern3\", \"P18554_1004_95096-A_pattern0\", \"P18554_1007_72859-B_pattern7\", \"P18554_1008_72859-A_pattern6\", \"P18554_1008_72859-B_pattern5\"]\n",
    "# Outer epidermis cluster\n",
    "cluster3 = [\"P17851_1001_91253-A_pattern1\", \"P17851_1002_91253-A_pattern2\", \"P17851_1002_91253-B_pattern5\", \"P17851_1002_91253-B_pattern7\", \"P17851_1003_45703-A_pattern1\", \"P17851_1004_45703-A_pattern5\", \"P18554_1001_50107-A_pattern2\", \"P18554_1002_50107-A_pattern6\", \"P18554_1002_50107-A_pattern7\", \"P18554_1003_95096-A_pattern5\", \"P18554_1004_95096-A_pattern1\", \"P18554_1005_82301-A_pattern3\", \"P18554_1005_82301-B_pattern0\", \"P18554_1005_82301-B_pattern3\", \"P18554_1006_82301-B_pattern4\", \"P18554_1007_72859-A_pattern0\", \"P18554_1007_72859-B_pattern0\", \"P18554_1008_72859-B_pattern7\"]"
   ]
  },
  {
   "cell_type": "code",
   "execution_count": null,
   "id": "c8a71000",
   "metadata": {},
   "outputs": [],
   "source": [
    "plot_in_order_annotations(anndata = adata, patternsdf = df_all, patternlist = cluster4, list_of_annotations = ['GRANULOMA', 'EPIDERMIS'], col_number = 6)"
   ]
  },
  {
   "cell_type": "code",
   "execution_count": null,
   "id": "f3ea16a9",
   "metadata": {},
   "outputs": [],
   "source": [
    "plot_in_order_annotations(anndata = adata, patternsdf = df_all, patternlist = cluster2, list_of_annotations = ['GRANULOMA', 'EPIDERMIS'])"
   ]
  },
  {
   "cell_type": "code",
   "execution_count": null,
   "id": "201e8d2c",
   "metadata": {},
   "outputs": [],
   "source": [
    "plot_in_order_annotations(anndata = adata, patternsdf = df_all, patternlist = cluster5, list_of_annotations = ['GRANULOMA', 'EPIDERMIS'])"
   ]
  },
  {
   "cell_type": "code",
   "execution_count": null,
   "id": "0126072d",
   "metadata": {},
   "outputs": [],
   "source": [
    "plot_in_order_annotations(anndata = adata, patternsdf = df_all, patternlist = cluster3, list_of_annotations = ['GRANULOMA', 'EPIDERMIS'])"
   ]
  },
  {
   "cell_type": "code",
   "execution_count": null,
   "id": "e7cc2fbc",
   "metadata": {},
   "outputs": [],
   "source": [
    "# Further Kmeans k = 2 of granuloma cluster\n",
    "\n",
    "cluster2_sub1 = [\"P17851_1002_91253-A_pattern5\", \"P18554_1001_50107-A_pattern1\", \"P18554_1004_95096-A_pattern7\", \"P18554_1005_82301-A_pattern4\", \"P18554_1007_72859-B_pattern5\", \"P18554_1008_72859-A_pattern4\", \"P18554_1008_72859-B_pattern3\"]\n",
    "cluster2_sub2 = [\"P17851_1001_91253-A_pattern6\", \"P17851_1002_91253-B_pattern1\", \"P17851_1003_45703-A_pattern6\", \"P17851_1004_45703-A_pattern7\", \"P18554_1002_50107-A_pattern5\", \"P18554_1003_95096-A_pattern6\", \"P18554_1005_82301-B_pattern1\", \"P18554_1006_82301-A_pattern5\", \"P18554_1006_82301-B_pattern7\", \"P18554_1007_72859-A_pattern3\"]"
   ]
  },
  {
   "cell_type": "code",
   "execution_count": null,
   "id": "9796ceb9",
   "metadata": {},
   "outputs": [],
   "source": [
    "plot_in_order_annotations(anndata = adata, patternsdf = df_all, patternlist = cluster2_sub1, list_of_annotations = ['GRANULOMA', 'EPIDERMIS'])"
   ]
  },
  {
   "cell_type": "code",
   "execution_count": null,
   "id": "6dd78bce",
   "metadata": {},
   "outputs": [],
   "source": [
    "plot_in_order_annotations(anndata = adata, patternsdf = df_all, patternlist = cluster2_sub2, list_of_annotations = ['GRANULOMA', 'EPIDERMIS'])"
   ]
  },
  {
   "cell_type": "code",
   "execution_count": null,
   "id": "b426c3e5",
   "metadata": {},
   "outputs": [],
   "source": [
    "# Further k Means 2 of granuloma clusters 2 and 4\n",
    "cluster24_sub1 = [\"P17851_1002_91253-A_pattern5\", \"P17851_1002_91253-B_pattern1\", \"P17851_1004_45703-A_pattern7\", \"P18554_1001_50107-A_pattern1\", \"P18554_1002_50107-A_pattern5\", \"P18554_1004_95096-A_pattern7\", \"P18554_1005_82301-B_pattern1\", \"P18554_1006_82301-A_pattern5\", \"P18554_1006_82301-B_pattern7\", \"P18554_1007_72859-A_pattern3\", \"P18554_1007_72859-B_pattern5\", \"P18554_1008_72859-B_pattern3\"]\n",
    "cluster24_sub2 = [\"P18554_1002_50107-A_pattern4\", \"P18554_1004_95096-A_pattern2\", \"P18554_1005_82301-A_pattern0\", \"P18554_1007_72859-B_pattern6\"]"
   ]
  },
  {
   "cell_type": "code",
   "execution_count": null,
   "id": "8573a13b",
   "metadata": {},
   "outputs": [],
   "source": [
    "plot_in_order_annotations(anndata = adata, patternsdf = df_all, patternlist = cluster24_sub1, list_of_annotations = ['GRANULOMA', 'EPIDERMIS'])"
   ]
  },
  {
   "cell_type": "code",
   "execution_count": null,
   "id": "da5e0aa7",
   "metadata": {},
   "outputs": [],
   "source": [
    "plot_in_order_annotations(anndata = adata, patternsdf = df_all, patternlist = cluster24_sub2, list_of_annotations = ['GRANULOMA', 'EPIDERMIS'])"
   ]
  },
  {
   "cell_type": "code",
   "execution_count": null,
   "id": "53764cb2",
   "metadata": {},
   "outputs": [],
   "source": [
    "plot_in_order_annotations(anndata = adata, patternsdf = df_all, patternlist = cluster4, list_of_annotations = [], col_number = 9)"
   ]
  },
  {
   "cell_type": "code",
   "execution_count": null,
   "id": "df514383",
   "metadata": {},
   "outputs": [],
   "source": [
    "plot_in_order_annotations(anndata = adata, patternsdf = df_all, patternlist = cluster2, list_of_annotations = [], col_number = 9)"
   ]
  },
  {
   "cell_type": "code",
   "execution_count": null,
   "id": "02a2d698",
   "metadata": {},
   "outputs": [],
   "source": [
    "plot_in_order_annotations(anndata = adata, patternsdf = df_all, patternlist = cluster5, list_of_annotations = [], col_number = 8)"
   ]
  },
  {
   "cell_type": "code",
   "execution_count": null,
   "id": "6fe49c40",
   "metadata": {},
   "outputs": [],
   "source": [
    "plot_in_order_annotations(anndata = adata, patternsdf = df_all, patternlist = cluster3, list_of_annotations = [], col_number = 9)"
   ]
  },
  {
   "cell_type": "code",
   "execution_count": null,
   "id": "5f015bdf",
   "metadata": {},
   "outputs": [],
   "source": []
  }
 ],
 "metadata": {
  "kernelspec": {
   "display_name": "Rpy2 kernel",
   "language": "python",
   "name": "r4.1.2_py3.8"
  },
  "language_info": {
   "codemirror_mode": {
    "name": "ipython",
    "version": 3
   },
   "file_extension": ".py",
   "mimetype": "text/x-python",
   "name": "python",
   "nbconvert_exporter": "python",
   "pygments_lexer": "ipython3",
   "version": "3.8.12"
  }
 },
 "nbformat": 4,
 "nbformat_minor": 5
}
