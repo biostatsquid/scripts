{
 "cells": [
  {
   "cell_type": "code",
   "execution_count": null,
   "id": "422d2f76",
   "metadata": {},
   "outputs": [],
   "source": [
    "# Import relevant libraries\n",
    "import numpy as np\n",
    "import scanpy as sc\n",
    "import os\n",
    "import pandas as pd\n",
    "import seaborn as sb\n",
    "import matplotlib\n",
    "import matplotlib.pyplot as plt\n",
    "from matplotlib import rcParams\n",
    "from matplotlib import colors\n",
    "import seaborn as sns\n",
    "from collections import OrderedDict\n",
    "from matplotlib import cm\n",
    "import anndata as ann\n",
    "import scanpy.external as sce\n",
    "from datetime import datetime\n",
    "import NaiveDE\n",
    "import SpatialDE\n",
    "from matplotlib_venn import venn3\n",
    "%matplotlib inline\n",
    "import glob\n",
    "import plotly.graph_objects as go\n",
    "\n",
    "# Set current directory\n",
    "os.chdir(\"/Users/mendenlab/work/spatial_granuloma/scripts\")\n",
    "\n",
    "# assign the rigth colours to the right annotation\n",
    "def _set_colors(adata, obs_name, colors):\n",
    "    \"\"\"Set palette with specific colors for specific categories\n",
    "\n",
    "    Parameters\n",
    "    ----------\n",
    "    adata : annData\n",
    "    obs_name : column to plot\n",
    "    colors : OrderedDict(): colors named by categories\n",
    "\n",
    "    Returns\n",
    "    -------\n",
    "\n",
    "    \"\"\"\n",
    "    if len(colors.values())>0:\n",
    "        palette = []\n",
    "        unique_colors = np.unique(adata.obs[obs_name])\n",
    "        for key in adata.obs[obs_name].cat.categories.tolist():\n",
    "            if key in colors.keys():\n",
    "                palette.append(colors[key])\n",
    "    return palette\n",
    "\n",
    "#Set the colours per annotation\n",
    "spot_colors = []\n",
    "spot_colors = OrderedDict()\n",
    "spot_colors[\"EPIDERMIS\"] = 'blue'\n",
    "spot_colors[\"DERMIS\"] = '#E0EEE0'\n",
    "spot_colors[\"INTERFACE\"] = 'deepskyblue'\n",
    "spot_colors[\"VESSEL\"] = 'darkgreen'\n",
    "spot_colors[\"HAIR FOLLICLE\"] = \"#543005\"\n",
    "spot_colors[\"SWEAT GLAND\"] = 'yellow'\n",
    "spot_colors[\"SEBACEOUS GLAND\"] = 'mistyrose'\n",
    "spot_colors[\"MUSCLE\"] = 'darkcyan'\n",
    "spot_colors[\"GA\"] = 'firebrick'  \n",
    "spot_colors[\"GNL\"] = 'orchid'\n",
    "spot_colors[\"GSS\"] = 'blueviolet'\n",
    "spot_colors[\"GSC\"] = 'mediumvioletred'\n",
    "spot_colors[\"UNDETERMINED\"] = 'black'\n",
    "\n",
    "\n",
    "dermis_colors = []\n",
    "dermis_colors = OrderedDict()\n",
    "dermis_colors[\"UNDETERMINED\"] = 'black'\n",
    "dermis_colors[\"upper EPIDERMIS\"] = 'blue'\n",
    "dermis_colors[\"middle EPIDERMIS\"] = 'dodgerblue'\n",
    "dermis_colors[\"basal EPIDERMIS\"] = 'skyblue'\n",
    "dermis_colors[\"DERdepth1\"] = '#006837'\n",
    "dermis_colors[\"DERdepth2\"] = '#238443'\n",
    "dermis_colors[\"DERdepth3\"] = '#41AB5D'\n",
    "dermis_colors[\"DERdepth4\"] = '#78C679'\n",
    "dermis_colors[\"DERdepth5\"] = '#ADDD8E'\n",
    "dermis_colors[\"DERdepth6\"] = '#D9F0A3'\n",
    "dermis_colors[\"DERdepth7\"] = '#F7FCB9'\n",
    "\n",
    "leiden_r13_colours = []\n",
    "leiden_r13_colours = OrderedDict()\n",
    "leiden_r13_colours[\"0\"] = 'darkolivegreen'\n",
    "leiden_r13_colours[\"1\"] = \"#D9F0A3\"\n",
    "leiden_r13_colours[\"2\"] = '#238443'\n",
    "leiden_r13_colours[\"3\"] = 'firebrick'\n",
    "leiden_r13_colours[\"4\"] = '#78C679'\n",
    "leiden_r13_colours[\"5\"] = '#78C679'\n",
    "leiden_r13_colours[\"6\"] = '#41AB5D'\n",
    "leiden_r13_colours[\"7\"] = '#006837'\n",
    "leiden_r13_colours[\"8\"] = '#ADDD8E'\n",
    "leiden_r13_colours[\"9\"] = \"#238443\"\n",
    "leiden_r13_colours[\"10\"] = '#78C679'\n",
    "leiden_r13_colours[\"11\"] = 'blue'\n",
    "leiden_r13_colours[\"12\"] = 'orchid'\n",
    "leiden_r13_colours[\"13\"] = '#F46D43'\n",
    "leiden_r13_colours[\"14\"] = 'dodgerblue'\n",
    "leiden_r13_colours[\"15\"] = 'deepskyblue'\n",
    "leiden_r13_colours[\"16\"] = '#cfafaf'\n",
    "leiden_r13_colours[\"17\"] = 'yellow'\n",
    "leiden_r13_colours[\"18\"] = 'darkcyan'\n",
    "leiden_r13_colours[\"19\"] = '#006837'"
   ]
  },
  {
   "cell_type": "code",
   "execution_count": null,
   "id": "41ccb0ba",
   "metadata": {},
   "outputs": [],
   "source": [
    "# Import adata \n",
    "adata_path = \"../results/current/\"\n",
    "\n",
    "adata = sc.read(os.path.join(adata_path, \"final/Granuloma_QC_clustering.h5\"))\n",
    "    \n",
    "# setting up \"factors\" with different levels, order = TRUE\n",
    "# add less common annotations LAST so they are not overwritten\n",
    "\n",
    "# Set spot_type and skin_layer as categories and define the levels in each category\n",
    "# Spot type: annatomical annotations\n",
    "adata.obs['spot_type'] = pd.Categorical(\n",
    "    adata.obs['spot_type'],\n",
    "    categories = [\"EPIDERMIS\", 'DERMIS',  'INTERFACE', 'VESSEL', 'HAIR FOLLICLE', 'SWEAT GLAND', 'SEBACEOUS GLAND', \n",
    "                'MUSCLE', 'GA', 'GNL', 'GSS', 'GSC', 'UNDETERMINED'],\n",
    "                 ordered = True)\n",
    "\n",
    "# Skin layer\n",
    "adata.obs['skin_layer'] = pd.Categorical(\n",
    "    adata.obs['skin_layer'],\n",
    "    categories = ['UNDETERMINED', \n",
    "                'upper EPIDERMIS', 'middle EPIDERMIS', 'basal EPIDERMIS',\n",
    "                'DERdepth1', 'DERdepth2', 'DERdepth3', 'DERdepth4',\n",
    "                'DERdepth5', 'DERdepth6', 'DERdepth7'],\n",
    "    ordered = True)"
   ]
  },
  {
   "cell_type": "code",
   "execution_count": null,
   "id": "a3c83aa9",
   "metadata": {},
   "outputs": [],
   "source": [
    "os.chdir(\"/Volumes/Drive/spatial_granuloma/output/SpatialDE/\") # Set working directory so it saves it in the drive\n",
    "print(os.getcwd())"
   ]
  },
  {
   "cell_type": "code",
   "execution_count": null,
   "id": "50645146",
   "metadata": {},
   "outputs": [],
   "source": [
    "adata.obs['sample_SPECIMEN'] = adata.obs['sample'].astype(str) + '_' + adata.obs['SPECIMEN'].astype(str)"
   ]
  },
  {
   "cell_type": "markdown",
   "id": "7f1e8a2d",
   "metadata": {},
   "source": [
    "## Sankey plot"
   ]
  },
  {
   "cell_type": "code",
   "execution_count": null,
   "id": "508ea97f",
   "metadata": {},
   "outputs": [],
   "source": [
    "spot_colors"
   ]
  },
  {
   "cell_type": "code",
   "execution_count": null,
   "id": "1310494c",
   "metadata": {},
   "outputs": [],
   "source": [
    "adata.obs"
   ]
  },
  {
   "cell_type": "code",
   "execution_count": null,
   "id": "242daee8",
   "metadata": {},
   "outputs": [],
   "source": [
    "manual_leiden = list(spot_colors.keys()) + list(leiden_r13_colours.keys())\n",
    "manual_leiden_colours = list(spot_colors.values()) + list(leiden_r13_colours.values())\n",
    "\n",
    "links_source = adata.obs['spot_type']"
   ]
  },
  {
   "cell_type": "code",
   "execution_count": null,
   "id": "a0011d62",
   "metadata": {},
   "outputs": [],
   "source": [
    "dict(zip(spot_colors.keys(), range(0,13)))"
   ]
  },
  {
   "cell_type": "code",
   "execution_count": null,
   "id": "410a7c76",
   "metadata": {
    "scrolled": true
   },
   "outputs": [],
   "source": [
    "dict(zip(leiden_r13_colours.keys(), range(13,33)))"
   ]
  },
  {
   "cell_type": "code",
   "execution_count": null,
   "id": "420259d4",
   "metadata": {},
   "outputs": [],
   "source": [
    "dict(zip(spot_colors.keys(), range(0,13)))"
   ]
  },
  {
   "cell_type": "code",
   "execution_count": null,
   "id": "8ae80f48",
   "metadata": {},
   "outputs": [],
   "source": [
    "sankey_df = adata.obs[['spot_type', 'leiden_r1.3_patient']]\n",
    "sankey_df = sankey_df.groupby(['spot_type', 'leiden_r1.3_patient']).size().reset_index(name=\"Count\")\n",
    "sankey_df[\"spot_type\"].replace(dict(zip(spot_colors.keys(), range(0,13))), inplace=True)\n",
    "sankey_df[\"spot_type\"] = sankey_df[\"spot_type\"].cat.reorder_categories(new_categories = list(range(0,13)), ordered = True)\n",
    "sankey_df[\"leiden_r1.3_patient\"].replace(dict(zip(leiden_r13_colours.keys(), range(13,33))), inplace=True)\n",
    "sankey_df[\"leiden_r1.3_patient\"] = sankey_df[\"leiden_r1.3_patient\"].cat.reorder_categories(new_categories = list(range(13,33)), ordered = True)\n",
    "sankey_df"
   ]
  },
  {
   "cell_type": "code",
   "execution_count": null,
   "id": "44f415e5",
   "metadata": {},
   "outputs": [],
   "source": [
    "# Nodes\n",
    "nodes = dict(label = manual_leiden, color = manual_leiden_colours)\n",
    "# Links\n",
    "links = dict(source = sankey_df[\"spot_type\"], # The origin or the source nodes of the link\n",
    "            target = sankey_df[\"leiden_r1.3_patient\"], # The destination or the target nodes of the link\n",
    "             value = sankey_df['Count'], # The width (quantity) of the links\n",
    "             color = pd.Series(spot_colors.values()).repeat(20) #pd.Series(manual_leiden_colours).repeat(20)\n",
    "            )\n",
    "data = go.Sankey(node = nodes, link = links)\n",
    "fig = go.Figure(data)\n",
    "fig.show()"
   ]
  },
  {
   "cell_type": "code",
   "execution_count": null,
   "id": "0f3d639c",
   "metadata": {},
   "outputs": [],
   "source": [
    "dict(zip(categories_included, range(0,9)))"
   ]
  },
  {
   "cell_type": "code",
   "execution_count": null,
   "id": "db29cd2c",
   "metadata": {},
   "outputs": [],
   "source": [
    "sankey_df[\"spot_type\"]"
   ]
  },
  {
   "cell_type": "code",
   "execution_count": null,
   "id": "1f3d65aa",
   "metadata": {},
   "outputs": [],
   "source": [
    "# Removing some categories\n",
    "categories_included = ['VESSEL', 'HAIR FOLLICLE', 'SWEAT GLAND', 'SEBACEOUS GLAND', 'MUSCLE', 'GA', 'GNL', 'GSS', 'GSC']\n",
    "manual_leiden = categories_included + list(leiden_r13_colours.keys())\n",
    "manual_leiden_colours = ['darkgreen', '#543005', 'yellow', 'mistyrose', 'darkcyan', 'firebrick', 'orchid', 'blueviolet', 'mediumvioletred'] + list(leiden_r13_colours.values())"
   ]
  },
  {
   "cell_type": "code",
   "execution_count": null,
   "id": "5eb14ede",
   "metadata": {},
   "outputs": [],
   "source": [
    "sankey_df = adata.obs[['spot_type', 'leiden_r1.3_patient']]\n",
    "sankey_df = sankey_df.groupby(['spot_type', 'leiden_r1.3_patient']).size().reset_index(name=\"Count\")\n",
    "sankey_df = sankey_df[sankey_df['spot_type'].isin(categories_included)]\n",
    "sankey_df[\"spot_type\"] = sankey_df[\"spot_type\"].cat.remove_unused_categories()\n",
    "sankey_df[\"spot_type\"].replace(dict(zip(categories_included, range(0,9))), inplace=True)\n",
    "sankey_df[\"spot_type\"] = sankey_df[\"spot_type\"].cat.reorder_categories(new_categories = list(range(0,9)), ordered = True)\n",
    "sankey_df[\"leiden_r1.3_patient\"].replace(dict(zip(leiden_r13_colours.keys(), range(9,29))), inplace=True)\n",
    "sankey_df[\"leiden_r1.3_patient\"] = sankey_df[\"leiden_r1.3_patient\"].cat.reorder_categories(new_categories = list(range(9,29)), ordered = True)\n",
    "sankey_df"
   ]
  },
  {
   "cell_type": "code",
   "execution_count": null,
   "id": "d2a58c48",
   "metadata": {},
   "outputs": [],
   "source": [
    "manual_leiden_colours"
   ]
  },
  {
   "cell_type": "code",
   "execution_count": null,
   "id": "a782337e",
   "metadata": {},
   "outputs": [],
   "source": [
    "# Nodes\n",
    "nodes = dict(label = manual_leiden, color = manual_leiden_colours)\n",
    "# Links\n",
    "links = dict(source = sankey_df[\"spot_type\"], # The origin or the source nodes of the link\n",
    "            target = sankey_df[\"leiden_r1.3_patient\"], # The destination or the target nodes of the link\n",
    "             value = sankey_df['Count'], # The width (quantity) of the links\n",
    "             color = pd.Series(manual_leiden_colours).repeat(20) #pd.Series(manual_leiden_colours).repeat(20)\n",
    "            )\n",
    "data = go.Sankey(node = nodes, link = links)\n",
    "fig = go.Figure(data)\n",
    "fig.show()"
   ]
  },
  {
   "cell_type": "code",
   "execution_count": null,
   "id": "55a2345e",
   "metadata": {},
   "outputs": [],
   "source": [
    "# Removing some categories\n",
    "categories_included = ['EPIDERMIS', 'DERMIS', 'VESSEL', 'HAIR FOLLICLE', 'SWEAT GLAND', 'SEBACEOUS GLAND', 'MUSCLE', 'GA', 'GNL', 'GSS', 'GSC']\n",
    "manual_leiden = categories_included + list(leiden_r13_colours.keys())\n",
    "manual_leiden_colours = ['blue', '#E0EEE0', 'darkgreen', '#543005', 'yellow', 'mistyrose', 'darkcyan', 'firebrick', 'orchid', 'blueviolet', 'mediumvioletred'] + list(leiden_r13_colours.values())\n",
    "\n",
    "sankey_df = adata.obs[['spot_type', 'leiden_r1.3_patient']]\n",
    "sankey_df = sankey_df.groupby(['spot_type', 'leiden_r1.3_patient']).size().reset_index(name=\"Count\")\n",
    "sankey_df = sankey_df[sankey_df['spot_type'].isin(categories_included)]\n",
    "sankey_df[\"spot_type\"] = sankey_df[\"spot_type\"].cat.remove_unused_categories()\n",
    "sankey_df[\"spot_type\"].replace(dict(zip(categories_included, range(0,11))), inplace=True)\n",
    "sankey_df[\"spot_type\"] = sankey_df[\"spot_type\"].cat.reorder_categories(new_categories = list(range(0,11)), ordered = True)\n",
    "sankey_df[\"leiden_r1.3_patient\"].replace(dict(zip(leiden_r13_colours.keys(), range(11,31))), inplace=True)\n",
    "sankey_df[\"leiden_r1.3_patient\"] = sankey_df[\"leiden_r1.3_patient\"].cat.reorder_categories(new_categories = list(range(11,31)), ordered = True)\n",
    "sankey_df\n",
    "\n",
    "# Nodes\n",
    "nodes = dict(label = manual_leiden, color = manual_leiden_colours)\n",
    "# Links\n",
    "links = dict(source = sankey_df[\"spot_type\"], # The origin or the source nodes of the link\n",
    "            target = sankey_df[\"leiden_r1.3_patient\"], # The destination or the target nodes of the link\n",
    "             value = sankey_df['Count'], # The width (quantity) of the links\n",
    "             color = pd.Series(manual_leiden_colours).repeat(20) #pd.Series(manual_leiden_colours).repeat(20)\n",
    "            )\n",
    "data = go.Sankey(node = nodes, link = links)\n",
    "fig = go.Figure(data)\n",
    "fig.show()"
   ]
  }
 ],
 "metadata": {
  "kernelspec": {
   "display_name": "Rpy2 kernel",
   "language": "python",
   "name": "r4.1.2_py3.8"
  },
  "language_info": {
   "codemirror_mode": {
    "name": "ipython",
    "version": 3
   },
   "file_extension": ".py",
   "mimetype": "text/x-python",
   "name": "python",
   "nbconvert_exporter": "python",
   "pygments_lexer": "ipython3",
   "version": "3.8.12"
  }
 },
 "nbformat": 4,
 "nbformat_minor": 5
}
